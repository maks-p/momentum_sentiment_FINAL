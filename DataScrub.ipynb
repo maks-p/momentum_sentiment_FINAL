{
 "cells": [
  {
   "cell_type": "code",
   "execution_count": 1,
   "metadata": {},
   "outputs": [],
   "source": [
    "import quandl\n",
    "import pandas as pd\n",
    "import numpy as np\n",
    "import matplotlib.pyplot as plt\n",
    "import seaborn as sns\n",
    "import math\n",
    "from config import api_key\n",
    "import statsmodels.api as sm\n",
    "from statsmodels.formula.api import ols\n",
    "import scipy\n",
    "%matplotlib inline"
   ]
  },
  {
   "cell_type": "code",
   "execution_count": 2,
   "metadata": {},
   "outputs": [],
   "source": [
    "quandl.ApiConfig.api_key = api_key\n",
    "#Variance Risk Premium: https://sites.google.com/site/haozhouspersonalhomepage\n",
    "#EOM Nominal S&P, Nominal Dividends / Nominal Risk Free Rate: http://www.hec.unil.ch/agoyal/\n",
    "#Consumer Sentiment: http://www.sca.isr.umich.edu/"
   ]
  },
  {
   "cell_type": "code",
   "execution_count": 3,
   "metadata": {},
   "outputs": [],
   "source": [
    "ticker = 'SPY'\n",
    "transform = 'normalize'\n",
    "start_date = '1989-01-01'\n",
    "end_date = '2018-12-31'\n",
    "period = 'monthly'"
   ]
  },
  {
   "cell_type": "code",
   "execution_count": 4,
   "metadata": {},
   "outputs": [
    {
     "name": "stdout",
     "output_type": "stream",
     "text": [
      "Dataframes are not the same size: ticker_data is 312,  risk_free_rate is 360,  fed_funds_rate is 360.\n"
     ]
    }
   ],
   "source": [
    "#Access data from Quandl\n",
    "ticker_data = quandl.get('EOD/' + ticker, start_date=start_date, end_date=end_date, collapse=period)\n",
    "risk_free_rate = quandl.get('FRED/DTB3', start_date=start_date, end_date=end_date, collapse=period)\n",
    "fed_funds_rate = quandl.get('FRED/FEDFUNDS', start_date=start_date, end_date=end_date, collapse=period)\n",
    "\n",
    "#Confirm results are same size:\n",
    "if ticker_data.shape[0] == risk_free_rate.shape[0] == fed_funds_rate.shape[0]:\n",
    "    \n",
    "    print(f\"All dataframes are {ticker_data.shape[0]} rows\")\n",
    "\n",
    "else:\n",
    "    print('Dataframes are not the same size:',  \n",
    "          f'ticker_data is {ticker_data.shape[0]}, ',\n",
    "          f'risk_free_rate is {risk_free_rate.shape[0]}, ',\n",
    "          f'fed_funds_rate is {fed_funds_rate.shape[0]}.');"
   ]
  },
  {
   "cell_type": "code",
   "execution_count": 5,
   "metadata": {},
   "outputs": [],
   "source": [
    "#Make Function to Create Return Column for Risk Free Rate & Fed Funds Rate\n",
    "def make_return_column(data):\n",
    "    \n",
    "    list_return = []\n",
    "\n",
    "    for i in range(len(data)):\n",
    "        x = (data.iloc[i]['Value']/12)/100\n",
    "        list_return.append(x)\n",
    "        \n",
    "    temp_df = pd.DataFrame(list_return)\n",
    "    \n",
    "    data = pd.concat([data.reset_index(), temp_df.reset_index(drop=True)], axis=1)\n",
    "    data = data.rename(columns={0: 'return'})\n",
    "    \n",
    "    return data\n",
    "\n",
    "risk_free_df = make_return_column(risk_free_rate)"
   ]
  },
  {
   "cell_type": "code",
   "execution_count": 6,
   "metadata": {},
   "outputs": [],
   "source": [
    "fed_funds_df = pd.DataFrame(fed_funds_rate.reset_index())"
   ]
  },
  {
   "cell_type": "code",
   "execution_count": 7,
   "metadata": {},
   "outputs": [],
   "source": [
    "fed_funds_df18 = fed_funds_df[fed_funds_df['Date'] >= '2018-01-01']\n",
    "fed_funds_df = fed_funds_df[fed_funds_df['Date'] < '2018-01-01']"
   ]
  },
  {
   "cell_type": "code",
   "execution_count": 8,
   "metadata": {},
   "outputs": [],
   "source": [
    "fed_funds_df18 = fed_funds_df18['Value']\n",
    "fed_funds_df = fed_funds_df['Value']"
   ]
  },
  {
   "cell_type": "code",
   "execution_count": 10,
   "metadata": {},
   "outputs": [],
   "source": [
    "\"\"\"\n",
    "BUILD DATASET\n",
    "\n",
    "Monthly >>>\n",
    "Index: S&P 500 Index Data\n",
    "D12: Dividends are 12-month moving sums of dividends paid on the S&P 500 index (Goyal, Welch) \n",
    "     -- Confirmed with Y Charts\n",
    "Rfree: Nominal Risk Free Rate\n",
    "\"\"\"\n",
    "goyal = pd.read_excel('PredictorData2017.xlsx')\n",
    "df = pd.DataFrame(goyal)\n",
    "\n",
    "#New DF with cleaned up Columns\n",
    "df_cols = ['yyyymm', 'Index', 'D12', 'Rfree']\n",
    "df = df[df_cols]\n",
    "\n",
    "#Convert yyyymm to Datetime then to Period\n",
    "yyyymm = pd.to_datetime(df['yyyymm'], format='%Y%m').dt.strftime('%Y-%m')\n",
    "df['yyyymm'] = pd.to_datetime(yyyymm, format='%Y-%m')\n",
    "\n",
    "#Drop rows prior to 1990-01\n",
    "df = df[df['yyyymm'] >= '1990-01'];"
   ]
  },
  {
   "cell_type": "code",
   "execution_count": 12,
   "metadata": {},
   "outputs": [],
   "source": [
    "\"\"\"\n",
    "VRP: Variance Risk Premium = IV - RV\n",
    "IV: Implied Variance = VIX-Squared/12\n",
    "RV: Realized Variance = Sum of Squared 5-minute log returns of the S&P 500 Index\n",
    "\"\"\"\n",
    "vrp = pd.read_fwf('VRPtable.txt')\n",
    "df_vrp = pd.DataFrame(vrp)\n",
    "\n",
    "#Drop 2018 Rows & create new VRP 2018 DF\n",
    "df_vrp2018 = df_vrp[df_vrp['Year'] >= 2018]\n",
    "df_vrp = df_vrp[df_vrp['Year'] < 2018]\n",
    "\n",
    "\n",
    "#Drop Unnecessary Columns\n",
    "df_vrp2018 = df_vrp2018[['VRP']]\n",
    "df_vrp = df_vrp[['VRP']];"
   ]
  },
  {
   "cell_type": "code",
   "execution_count": 13,
   "metadata": {},
   "outputs": [],
   "source": [
    "#Concat Index DF with VRP DF\n",
    "df = pd.concat([df.reset_index(drop=True), df_vrp.reset_index(drop=True)], axis=1)"
   ]
  },
  {
   "cell_type": "code",
   "execution_count": 14,
   "metadata": {},
   "outputs": [],
   "source": [
    "#Rename yyyymm Column to EOM\n",
    "df = df.rename(columns={'yyyymm': 'EOM'})"
   ]
  },
  {
   "cell_type": "code",
   "execution_count": 15,
   "metadata": {},
   "outputs": [],
   "source": [
    "#New DF from Index / Div / Rfree Data -> Need to Add 1989 Data.\n",
    "df_1989 = pd.DataFrame(goyal)\n",
    "df_1989_cols = ['yyyymm', 'Index', 'D12', 'Rfree']\n",
    "\n",
    "df_1989 = df_1989[df_1989_cols]\n",
    "yyyymm_1989 = pd.to_datetime(df_1989['yyyymm'], format='%Y%m').dt.strftime('%Y-%m')\n",
    "df_1989['yyyymm']  = pd.to_datetime(yyyymm_1989, format='%Y-%m')\n",
    "\n",
    "df_1989 = df_1989[(df_1989['yyyymm'] >= '1989-01') & (df_1989['yyyymm'] < '1990-01')]\n",
    "\n",
    "df_1989 = df_1989.rename(columns={'yyyymm': 'EOM'})\n",
    "\n",
    "df = pd.concat([df_1989, df], axis=0, ignore_index=True, sort=False)"
   ]
  },
  {
   "cell_type": "code",
   "execution_count": 16,
   "metadata": {},
   "outputs": [],
   "source": [
    "#Concat Fed Funds Rate\n",
    "df = pd.concat([df.reset_index(drop=True), fed_funds_df.reset_index(drop=True)], axis=1)\n",
    "df = df.rename(columns={'Value': 'fed_funds'})"
   ]
  },
  {
   "cell_type": "code",
   "execution_count": 18,
   "metadata": {},
   "outputs": [],
   "source": [
    "sentiment_file = 'tbmics.csv'\n",
    "sentiment = pd.read_csv(sentiment_file)\n",
    "\n",
    "sentiment18 = sentiment[(sentiment['YYYY'] >= 2018) & (sentiment['YYYY'] < 2019)]\n",
    "sentiment = sentiment[(sentiment['YYYY'] >= 1989) & (sentiment['YYYY'] < 2018)]\n"
   ]
  },
  {
   "cell_type": "code",
   "execution_count": 19,
   "metadata": {},
   "outputs": [],
   "source": [
    "sentiment18 = sentiment18['ICS_ALL']\n",
    "sentiment = sentiment['ICS_ALL']"
   ]
  },
  {
   "cell_type": "code",
   "execution_count": 20,
   "metadata": {},
   "outputs": [],
   "source": [
    "df = pd.concat([df.reset_index(drop=True), sentiment.reset_index(drop=True)], axis=1)"
   ]
  },
  {
   "cell_type": "code",
   "execution_count": 24,
   "metadata": {},
   "outputs": [],
   "source": [
    "\"\"\"\n",
    "2018 Data\n",
    "\"\"\"\n",
    "\n",
    "#2018 S&P 500 Dividends\n",
    "dividends18 = 'Dividend_History.csv'\n",
    "div_data18 = pd.read_csv(dividends18)\n",
    "div18 = pd.DataFrame(div_data18)\n",
    "\n",
    "div18 = div18[['Value']]\n",
    "div18 = div18.rename(columns={'Value': 'D12'})\n",
    "\n",
    "#2018 S&P Index Data from Yahoo\n",
    "f2018 = '^GSPC.csv'\n",
    "data = pd.read_csv(f2018)\n",
    "sp18 = pd.DataFrame(data)\n",
    "sp18 = sp18[['Date', 'Close']]\n",
    "\n",
    "sp18 = pd.concat([sp18.reset_index(drop=True), df_vrp2018.reset_index(drop=True)], axis=1);"
   ]
  },
  {
   "cell_type": "code",
   "execution_count": 25,
   "metadata": {},
   "outputs": [],
   "source": [
    "#Concat 2018 DF with Risk Free Rate Data\n",
    "rfdf18 = risk_free_df['return'].tail(12)\n",
    "sp18 = pd.concat([sp18.reset_index(drop=True), rfdf18.reset_index(drop=True)], axis=1)\n",
    "sp18 = sp18.rename(columns={'return': 'Rfree'})"
   ]
  },
  {
   "cell_type": "code",
   "execution_count": 26,
   "metadata": {},
   "outputs": [],
   "source": [
    "#Concat 2018 federal funds rate return\n",
    "sp18 = pd.concat([sp18.reset_index(drop=True), fed_funds_df18.reset_index(drop=True)], axis=1)\n",
    "sp18 = sp18.rename(columns={'Value': 'fed_funds'})"
   ]
  },
  {
   "cell_type": "code",
   "execution_count": 27,
   "metadata": {},
   "outputs": [],
   "source": [
    "#Cocnat 2018 Dividends and clean up columns\n",
    "sp18 = pd.concat([sp18.reset_index(drop=True), div18.reset_index(drop=True)], axis=1)\n",
    "sp18 = sp18.rename(columns={'Close': 'Index', 'Date': 'EOM'})\n",
    "sp18['EOM'] = pd.to_datetime(sp18['EOM'])"
   ]
  },
  {
   "cell_type": "code",
   "execution_count": 28,
   "metadata": {},
   "outputs": [],
   "source": [
    "#Concat 2018 Sentiment\n",
    "sp18 = pd.concat([sp18.reset_index(drop=True), sentiment18.reset_index(drop=True)], axis=1)"
   ]
  },
  {
   "cell_type": "code",
   "execution_count": 29,
   "metadata": {},
   "outputs": [],
   "source": [
    "#Reorder Columns\n",
    "cols = ['EOM', 'Index', 'D12', 'Rfree', 'fed_funds', 'VRP', 'ICS_ALL']\n",
    "sp18 = sp18[cols]\n",
    "df = df[cols]"
   ]
  },
  {
   "cell_type": "code",
   "execution_count": 30,
   "metadata": {},
   "outputs": [],
   "source": [
    "#Create Dataframe with all Data from 1989 to 2018\n",
    "df_all = pd.concat([df.reset_index(drop=True), sp18.reset_index(drop=True)], axis=0)"
   ]
  },
  {
   "cell_type": "code",
   "execution_count": 31,
   "metadata": {},
   "outputs": [],
   "source": [
    "def build_df(df):\n",
    "    \n",
    "#Number of Periods in Variance Risk Premium\n",
    "    vrp_rolling_periods = 3\n",
    "\n",
    "    #Create Column with PD Ratio\n",
    "    df['pd'] = (df['Index'] / df['D12'])\n",
    "\n",
    "    #Create Column with Fed Funds Rate Delta (12 Month)\n",
    "    df['ff12_D'] = df['fed_funds'] - df['fed_funds'].shift(12)\n",
    "\n",
    "    #Create Column with Rolling Variance Risk Premium Rolling\n",
    "    df['vrp3'] = df['VRP'].rolling(vrp_rolling_periods).mean()\n",
    "\n",
    "    #Create Column with Sentiment Delta\n",
    "    df['sent12_D'] = (df['ICS_ALL'] - df['ICS_ALL'].shift(12))\n",
    "    \n",
    "    #Create Column with Excess Return on Index Relative to the RFR in percent\n",
    "    df['ersf'] = (((df['Index'] + df['D12']/12 - df['Index'].shift(1)) / df['Index'].shift(1)) - df['Rfree']) * 100\n",
    "\n",
    "#Create Column with Excess Return on Index Relative to the RFR in percent\n",
    "    df['ersf_t1'] = (((df['Index'].shift(-1) + df['D12'].shift(-1)/12 - df['Index']) / df['Index']) - df['Rfree'].shift(-1)) * 100\n",
    "\n",
    "#Create Column with 1-month Delta in ersf\n",
    "    df['ersf_D'] = df['ersf'] - df['ersf'].shift(1)\n",
    "\n",
    "#Create column with Sentiment X ersf Delta\n",
    "    df['sent_x_ersf_D'] = df['sent12_D'] * df['ersf_D']\n",
    "    \n",
    "    return df\n",
    "\n",
    "df_all = build_df(df_all)"
   ]
  },
  {
   "cell_type": "code",
   "execution_count": 32,
   "metadata": {},
   "outputs": [],
   "source": [
    "# Create Filter for 2003 to 2018\n",
    "filt_2003 = (df_all['EOM'] >= '2003-01-01')\n",
    "df0318 = df_all[filt_2003]\n",
    "\n",
    "#Cut off 2013\n",
    "df0418 = df0318[12:]"
   ]
  },
  {
   "cell_type": "code",
   "execution_count": 34,
   "metadata": {},
   "outputs": [
    {
     "data": {
      "text/html": [
       "<div>\n",
       "<style scoped>\n",
       "    .dataframe tbody tr th:only-of-type {\n",
       "        vertical-align: middle;\n",
       "    }\n",
       "\n",
       "    .dataframe tbody tr th {\n",
       "        vertical-align: top;\n",
       "    }\n",
       "\n",
       "    .dataframe thead th {\n",
       "        text-align: right;\n",
       "    }\n",
       "</style>\n",
       "<table border=\"1\" class=\"dataframe\">\n",
       "  <thead>\n",
       "    <tr style=\"text-align: right;\">\n",
       "      <th></th>\n",
       "      <th>EOM</th>\n",
       "      <th>Index</th>\n",
       "      <th>D12</th>\n",
       "      <th>Rfree</th>\n",
       "      <th>fed_funds</th>\n",
       "      <th>VRP</th>\n",
       "      <th>ICS_ALL</th>\n",
       "      <th>pd</th>\n",
       "      <th>ff12_D</th>\n",
       "      <th>vrp3</th>\n",
       "      <th>sent12_D</th>\n",
       "      <th>ersf</th>\n",
       "      <th>ersf_t1</th>\n",
       "      <th>ersf_D</th>\n",
       "      <th>sent_x_ersf_D</th>\n",
       "      <th>Google</th>\n",
       "      <th>Google_D</th>\n",
       "    </tr>\n",
       "  </thead>\n",
       "  <tbody>\n",
       "    <tr>\n",
       "      <th>0</th>\n",
       "      <td>2004-01-01</td>\n",
       "      <td>1131.13</td>\n",
       "      <td>17.598000</td>\n",
       "      <td>0.000733</td>\n",
       "      <td>1.00</td>\n",
       "      <td>14.0860</td>\n",
       "      <td>103.8</td>\n",
       "      <td>64.276054</td>\n",
       "      <td>-0.24</td>\n",
       "      <td>16.151067</td>\n",
       "      <td>21.4</td>\n",
       "      <td>1.786198</td>\n",
       "      <td>1.274621</td>\n",
       "      <td>-3.352254</td>\n",
       "      <td>-71.738239</td>\n",
       "      <td>28.0</td>\n",
       "      <td>0.273743</td>\n",
       "    </tr>\n",
       "    <tr>\n",
       "      <th>1</th>\n",
       "      <td>2004-02-01</td>\n",
       "      <td>1144.94</td>\n",
       "      <td>17.811000</td>\n",
       "      <td>0.000775</td>\n",
       "      <td>1.01</td>\n",
       "      <td>9.8728</td>\n",
       "      <td>94.4</td>\n",
       "      <td>64.282747</td>\n",
       "      <td>-0.25</td>\n",
       "      <td>14.917533</td>\n",
       "      <td>14.5</td>\n",
       "      <td>1.274621</td>\n",
       "      <td>-1.583041</td>\n",
       "      <td>-0.511577</td>\n",
       "      <td>-7.417861</td>\n",
       "      <td>28.0</td>\n",
       "      <td>0.000000</td>\n",
       "    </tr>\n",
       "    <tr>\n",
       "      <th>2</th>\n",
       "      <td>2004-03-01</td>\n",
       "      <td>1126.21</td>\n",
       "      <td>18.024000</td>\n",
       "      <td>0.000783</td>\n",
       "      <td>1.00</td>\n",
       "      <td>9.4462</td>\n",
       "      <td>95.8</td>\n",
       "      <td>62.483910</td>\n",
       "      <td>-0.25</td>\n",
       "      <td>11.135000</td>\n",
       "      <td>18.2</td>\n",
       "      <td>-1.583041</td>\n",
       "      <td>-1.622623</td>\n",
       "      <td>-2.857662</td>\n",
       "      <td>-52.009454</td>\n",
       "      <td>26.0</td>\n",
       "      <td>-2.000000</td>\n",
       "    </tr>\n",
       "    <tr>\n",
       "      <th>3</th>\n",
       "      <td>2004-04-01</td>\n",
       "      <td>1107.30</td>\n",
       "      <td>18.216667</td>\n",
       "      <td>0.000783</td>\n",
       "      <td>1.00</td>\n",
       "      <td>13.4427</td>\n",
       "      <td>94.2</td>\n",
       "      <td>60.784995</td>\n",
       "      <td>-0.26</td>\n",
       "      <td>10.920567</td>\n",
       "      <td>8.2</td>\n",
       "      <td>-1.622623</td>\n",
       "      <td>1.261890</td>\n",
       "      <td>-0.039582</td>\n",
       "      <td>-0.324572</td>\n",
       "      <td>25.0</td>\n",
       "      <td>-1.000000</td>\n",
       "    </tr>\n",
       "    <tr>\n",
       "      <th>4</th>\n",
       "      <td>2004-05-01</td>\n",
       "      <td>1120.68</td>\n",
       "      <td>18.409333</td>\n",
       "      <td>0.000850</td>\n",
       "      <td>1.00</td>\n",
       "      <td>5.2403</td>\n",
       "      <td>90.2</td>\n",
       "      <td>60.875643</td>\n",
       "      <td>-0.26</td>\n",
       "      <td>9.376400</td>\n",
       "      <td>-1.9</td>\n",
       "      <td>1.261890</td>\n",
       "      <td>1.831398</td>\n",
       "      <td>2.884513</td>\n",
       "      <td>-5.480574</td>\n",
       "      <td>23.0</td>\n",
       "      <td>-2.000000</td>\n",
       "    </tr>\n",
       "  </tbody>\n",
       "</table>\n",
       "</div>"
      ],
      "text/plain": [
       "         EOM    Index        D12     Rfree  fed_funds      VRP  ICS_ALL  \\\n",
       "0 2004-01-01  1131.13  17.598000  0.000733       1.00  14.0860    103.8   \n",
       "1 2004-02-01  1144.94  17.811000  0.000775       1.01   9.8728     94.4   \n",
       "2 2004-03-01  1126.21  18.024000  0.000783       1.00   9.4462     95.8   \n",
       "3 2004-04-01  1107.30  18.216667  0.000783       1.00  13.4427     94.2   \n",
       "4 2004-05-01  1120.68  18.409333  0.000850       1.00   5.2403     90.2   \n",
       "\n",
       "          pd  ff12_D       vrp3  sent12_D      ersf   ersf_t1    ersf_D  \\\n",
       "0  64.276054   -0.24  16.151067      21.4  1.786198  1.274621 -3.352254   \n",
       "1  64.282747   -0.25  14.917533      14.5  1.274621 -1.583041 -0.511577   \n",
       "2  62.483910   -0.25  11.135000      18.2 -1.583041 -1.622623 -2.857662   \n",
       "3  60.784995   -0.26  10.920567       8.2 -1.622623  1.261890 -0.039582   \n",
       "4  60.875643   -0.26   9.376400      -1.9  1.261890  1.831398  2.884513   \n",
       "\n",
       "   sent_x_ersf_D  Google  Google_D  \n",
       "0     -71.738239    28.0  0.273743  \n",
       "1      -7.417861    28.0  0.000000  \n",
       "2     -52.009454    26.0 -2.000000  \n",
       "3      -0.324572    25.0 -1.000000  \n",
       "4      -5.480574    23.0 -2.000000  "
      ]
     },
     "execution_count": 34,
     "metadata": {},
     "output_type": "execute_result"
    }
   ],
   "source": [
    "google_trends_file = 'GoogleTrends_2004-2018.csv'\n",
    "\n",
    "google_data = pd.read_csv(google_trends_file)\n",
    "google = pd.DataFrame(google_data)\n",
    "google = google[1:]\n",
    "\n",
    "google = google.rename(columns={'Category: All categories': 'Google'})\n",
    "google['Google'] = google['Google'].astype('float64')\n",
    "google['Google_D'] = google['Google'] - google['Google'].shift(1)\n",
    "google.fillna(google.mean(), inplace=True)\n",
    "\n",
    "df0418 = pd.concat([df0418.reset_index(drop=True), google.reset_index(drop=True)], axis=1)\n",
    "\n",
    "df0418.head()"
   ]
  },
  {
   "cell_type": "code",
   "execution_count": 35,
   "metadata": {},
   "outputs": [],
   "source": [
    "export_csv = df_all.to_csv (r'/Users/maks_p/Flatiron/PROJECT/Momentum_X_Sentiment/1989_2018_Data.csv', index = None)"
   ]
  },
  {
   "cell_type": "code",
   "execution_count": 36,
   "metadata": {},
   "outputs": [],
   "source": [
    "export_csv = df0418.to_csv (r'/Users/maks_p/Flatiron/PROJECT/Momentum_X_Sentiment/2004_to_2018_withGoogle.csv', index = None)"
   ]
  },
  {
   "cell_type": "code",
   "execution_count": null,
   "metadata": {},
   "outputs": [],
   "source": []
  }
 ],
 "metadata": {
  "kernelspec": {
   "display_name": "Python 3",
   "language": "python",
   "name": "python3"
  },
  "language_info": {
   "codemirror_mode": {
    "name": "ipython",
    "version": 3
   },
   "file_extension": ".py",
   "mimetype": "text/x-python",
   "name": "python",
   "nbconvert_exporter": "python",
   "pygments_lexer": "ipython3",
   "version": "3.7.2"
  }
 },
 "nbformat": 4,
 "nbformat_minor": 2
}
